{
 "cells": [
  {
   "cell_type": "code",
   "execution_count": 2,
   "id": "initial_id",
   "metadata": {
    "ExecuteTime": {
     "end_time": "2025-09-04T13:01:55.356436Z",
     "start_time": "2025-09-04T13:01:46.870960Z"
    },
    "collapsed": true
   },
   "outputs": [],
   "source": [
    "import pandas as pd\n",
    "import numpy as np\n",
    "import matplotlib.pyplot as plt\n",
    "import seaborn as sns\n",
    "import warnings\n",
    "warnings.filterwarnings('ignore')"
   ]
  },
  {
   "cell_type": "code",
   "execution_count": 3,
   "id": "545da5f5",
   "metadata": {},
   "outputs": [],
   "source": [
    "plt.style.use('default')\n",
    "sns.set_palette(\"husl\")"
   ]
  },
  {
   "cell_type": "markdown",
   "id": "379f76a3",
   "metadata": {},
   "source": [
    "## Load Dataset"
   ]
  },
  {
   "cell_type": "code",
   "execution_count": 30,
   "id": "fcf6976a",
   "metadata": {},
   "outputs": [
    {
     "name": "stdout",
     "output_type": "stream",
     "text": [
      "\n",
      "STEP 1: Loading the Dataset\n",
      "------------------------------\n",
      "Dataset loaded successfully!\n",
      "Dataset shape: (7043, 21) (rows, columns)\n"
     ]
    }
   ],
   "source": [
    "print(\"\\nSTEP 1: Loading the Dataset\")\n",
    "print(\"-\" * 30)\n",
    "\n",
    "df = pd.read_csv('..\\data\\WA_Fn-UseC_-Telco-Customer-Churn.csv')\n",
    "print(\"Dataset loaded successfully!\")\n",
    "print(f\"Dataset shape: {df.shape} (rows, columns)\")"
   ]
  },
  {
   "cell_type": "markdown",
   "id": "78539bf2",
   "metadata": {},
   "source": [
    "## Exploratory Data Analysis (EDA)"
   ]
  },
  {
   "cell_type": "code",
   "execution_count": 29,
   "id": "0321c0b0",
   "metadata": {},
   "outputs": [
    {
     "name": "stdout",
     "output_type": "stream",
     "text": [
      "\n",
      "STEP 2: First Look at the Data\n",
      "-----------------------------------\n",
      "\n",
      "🔸 First 5 rows:\n",
      "   customerID  gender  SeniorCitizen Partner Dependents  tenure PhoneService  \\\n",
      "0  7590-VHVEG  Female              0     Yes         No       1           No   \n",
      "1  5575-GNVDE    Male              0      No         No      34          Yes   \n",
      "2  3668-QPYBK    Male              0      No         No       2          Yes   \n",
      "3  7795-CFOCW    Male              0      No         No      45           No   \n",
      "4  9237-HQITU  Female              0      No         No       2          Yes   \n",
      "\n",
      "      MultipleLines InternetService OnlineSecurity  ... DeviceProtection  \\\n",
      "0  No phone service             DSL             No  ...               No   \n",
      "1                No             DSL            Yes  ...              Yes   \n",
      "2                No             DSL            Yes  ...               No   \n",
      "3  No phone service             DSL            Yes  ...              Yes   \n",
      "4                No     Fiber optic             No  ...               No   \n",
      "\n",
      "  TechSupport StreamingTV StreamingMovies        Contract PaperlessBilling  \\\n",
      "0          No          No              No  Month-to-month              Yes   \n",
      "1          No          No              No        One year               No   \n",
      "2          No          No              No  Month-to-month              Yes   \n",
      "3         Yes          No              No        One year               No   \n",
      "4          No          No              No  Month-to-month              Yes   \n",
      "\n",
      "               PaymentMethod MonthlyCharges  TotalCharges  Churn  \n",
      "0           Electronic check          29.85         29.85     No  \n",
      "1               Mailed check          56.95       1889.50     No  \n",
      "2               Mailed check          53.85        108.15    Yes  \n",
      "3  Bank transfer (automatic)          42.30       1840.75     No  \n",
      "4           Electronic check          70.70        151.65    Yes  \n",
      "\n",
      "[5 rows x 21 columns]\n",
      "\n",
      "🔸 Column names and data types:\n",
      "<class 'pandas.core.frame.DataFrame'>\n",
      "RangeIndex: 7043 entries, 0 to 7042\n",
      "Data columns (total 21 columns):\n",
      " #   Column            Non-Null Count  Dtype  \n",
      "---  ------            --------------  -----  \n",
      " 0   customerID        7043 non-null   object \n",
      " 1   gender            7043 non-null   object \n",
      " 2   SeniorCitizen     7043 non-null   int64  \n",
      " 3   Partner           7043 non-null   object \n",
      " 4   Dependents        7043 non-null   object \n",
      " 5   tenure            7043 non-null   int64  \n",
      " 6   PhoneService      7043 non-null   object \n",
      " 7   MultipleLines     7043 non-null   object \n",
      " 8   InternetService   7043 non-null   object \n",
      " 9   OnlineSecurity    7043 non-null   object \n",
      " 10  OnlineBackup      7043 non-null   object \n",
      " 11  DeviceProtection  7043 non-null   object \n",
      " 12  TechSupport       7043 non-null   object \n",
      " 13  StreamingTV       7043 non-null   object \n",
      " 14  StreamingMovies   7043 non-null   object \n",
      " 15  Contract          7043 non-null   object \n",
      " 16  PaperlessBilling  7043 non-null   object \n",
      " 17  PaymentMethod     7043 non-null   object \n",
      " 18  MonthlyCharges    7043 non-null   float64\n",
      " 19  TotalCharges      7032 non-null   float64\n",
      " 20  Churn             7043 non-null   object \n",
      "dtypes: float64(2), int64(2), object(17)\n",
      "memory usage: 1.1+ MB\n",
      "None\n",
      "\n",
      "🔸 Basic statistics for numerical columns:\n",
      "       SeniorCitizen       tenure  MonthlyCharges  TotalCharges\n",
      "count    7043.000000  7043.000000     7043.000000   7032.000000\n",
      "mean        0.162147    32.371149       64.761692   2283.300441\n",
      "std         0.368612    24.559481       30.090047   2266.771362\n",
      "min         0.000000     0.000000       18.250000     18.800000\n",
      "25%         0.000000     9.000000       35.500000    401.450000\n",
      "50%         0.000000    29.000000       70.350000   1397.475000\n",
      "75%         0.000000    55.000000       89.850000   3794.737500\n",
      "max         1.000000    72.000000      118.750000   8684.800000\n"
     ]
    }
   ],
   "source": [
    "print(\"\\nSTEP 2: First Look at the Data\")\n",
    "print(\"-\" * 35)\n",
    "\n",
    "print(\"\\n🔸 First 5 rows:\")\n",
    "print(df.head())  # Display the first 5 rows\n",
    "\n",
    "print(\"\\n🔸 Column names and data types:\")\n",
    "print(df.info())  # Display column names and data types\n",
    "\n",
    "print(\"\\n🔸 Basic statistics for numerical columns:\")\n",
    "print(df.describe())  # Display basic statistics for numerical columns"
   ]
  },
  {
   "cell_type": "markdown",
   "id": "ce4689cf",
   "metadata": {},
   "source": [
    "### Target Variable(Churn)"
   ]
  },
  {
   "cell_type": "code",
   "execution_count": 28,
   "id": "6bd0a234",
   "metadata": {},
   "outputs": [
    {
     "name": "stdout",
     "output_type": "stream",
     "text": [
      "\n",
      "STEP 3: Understanding Our Target Variable\n",
      "---------------------------------------------\n",
      "Churn Distribution:\n",
      "No:  5174 customers (73.5%)\n",
      "Yes: 1869 customers (26.5%)\n"
     ]
    }
   ],
   "source": [
    "print(\"\\nSTEP 3: Understanding Our Target Variable\")\n",
    "print(\"-\" * 45)\n",
    "\n",
    "# Check the churn distribution\n",
    "churn_counts = df['Churn'].value_counts()\n",
    "churn_percentage = df['Churn'].value_counts(normalize=True) * 100\n",
    "\n",
    "print(\"Churn Distribution:\")\n",
    "print(f\"No:  {churn_counts['No']} customers ({churn_percentage['No']:.1f}%)\")\n",
    "print(f\"Yes: {churn_counts['Yes']} customers ({churn_percentage['Yes']:.1f}%)\")"
   ]
  },
  {
   "cell_type": "markdown",
   "id": "cfd759c0",
   "metadata": {},
   "source": [
    "### Handling missing values and duplicate values"
   ]
  },
  {
   "cell_type": "code",
   "execution_count": 27,
   "id": "38a88fcb",
   "metadata": {},
   "outputs": [
    {
     "name": "stdout",
     "output_type": "stream",
     "text": [
      "\n",
      "STEP 4: Data Quality Assessment\n",
      "-----------------------------------\n",
      "Missing values per column:\n",
      "  TotalCharges: 11 (0.2%)\n",
      "\n",
      "Duplicate rows: 0\n"
     ]
    }
   ],
   "source": [
    "print(\"\\nSTEP 4: Data Quality Assessment\")\n",
    "print(\"-\" * 35)\n",
    "\n",
    "# Check for missing values\n",
    "missing_values = df.isnull().sum()\n",
    "print(\"Missing values per column:\")\n",
    "for col, missing in missing_values.items():\n",
    "    if missing > 0:\n",
    "        print(f\"  {col}: {missing} ({missing/len(df)*100:.1f}%)\")\n",
    "    \n",
    "if missing_values.sum() == 0:\n",
    "    print(\"No missing values found!\")\n",
    "\n",
    "# Check for duplicates\n",
    "duplicates = df.duplicated().sum()\n",
    "print(f\"\\nDuplicate rows: {duplicates}\")"
   ]
  },
  {
   "cell_type": "code",
   "execution_count": 24,
   "id": "811f7e19",
   "metadata": {},
   "outputs": [
    {
     "name": "stdout",
     "output_type": "stream",
     "text": [
      "\n",
      "STEP 5: Data Type Corrections\n",
      "--------------------------------\n",
      "TotalCharges data type: float64\n",
      "Found 11 non-numeric values in TotalCharges\n",
      "These will be handled in data cleaning phase\n"
     ]
    }
   ],
   "source": [
    "print(\"\\nSTEP 5: Data Type Corrections\")\n",
    "print(\"-\" * 32)\n",
    "\n",
    "# Check if TotalCharges is numeric (common issue with this dataset)\n",
    "print(f\"TotalCharges data type: {df['TotalCharges'].dtype}\")\n",
    "\n",
    "# Try to convert TotalCharges to numeric\n",
    "df['TotalCharges'] = pd.to_numeric(df['TotalCharges'], errors='coerce')\n",
    "\n",
    "# Check for any values that couldn't be converted\n",
    "non_numeric_charges = df['TotalCharges'].isnull().sum()\n",
    "if non_numeric_charges > 0:\n",
    "    print(f\"Found {non_numeric_charges} non-numeric values in TotalCharges\")\n",
    "    print(\"These will be handled in data cleaning phase\")"
   ]
  },
  {
   "cell_type": "markdown",
   "id": "804ec36f",
   "metadata": {},
   "source": [
    "### Visualization"
   ]
  },
  {
   "cell_type": "code",
   "execution_count": null,
   "id": "311d776f",
   "metadata": {},
   "outputs": [
    {
     "name": "stdout",
     "output_type": "stream",
     "text": [
      "\n",
      "STEP 6: Visualization\n",
      "------------------------------------------\n"
     ]
    },
    {
     "data": {
      "image/png": "[encoded data removed]",
      "text/plain": [
       "<Figure size 800x600 with 1 Axes>"
      ]
     },
     "metadata": {},
     "output_type": "display_data"
    }
   ],
   "source": [
    "print(\"\\nSTEP 6: Visualization\")\n",
    "print(\"-\" * 42)\n",
    "\n",
    "# Create a simple bar plot for churn distribution\n",
    "plt.figure(figsize=(8, 6))\n",
    "churn_counts.plot(kind='bar', color=['skyblue', 'salmon'])\n",
    "plt.title('Customer Churn Distribution', fontsize=16, fontweight='bold')\n",
    "plt.xlabel('Churn Status', fontsize=12)\n",
    "plt.ylabel('Number of Customers', fontsize=12)\n",
    "plt.xticks(rotation=0)\n",
    "\n",
    "# Add percentage labels on bars\n",
    "for i, v in enumerate(churn_counts.values):\n",
    "    plt.text(i, v + 50, f'{churn_percentage.iloc[i]:.1f}%', \n",
    "             ha='center', va='bottom', fontweight='bold')\n",
    "\n",
    "plt.tight_layout()\n",
    "plt.show()\n"
   ]
  },
  {
   "cell_type": "markdown",
   "id": "530d8f4d",
   "metadata": {},
   "source": [
    "### Summary"
   ]
  },
  {
   "cell_type": "code",
   "execution_count": 26,
   "id": "71c7019d",
   "metadata": {},
   "outputs": [
    {
     "name": "stdout",
     "output_type": "stream",
     "text": [
      "\n",
      "STEP 7: Initial Findings Summary\n",
      "-----------------------------------\n",
      "Dataset Overview:\n",
      "• Total customers: 7,043\n",
      "• Features available: 21\n",
      "• Churn rate: 26.5%\n",
      "• Data quality: Good\n"
     ]
    }
   ],
   "source": [
    "print(\"\\nSTEP 7: Initial Findings Summary\")\n",
    "print(\"-\" * 35)\n",
    "print(f\"Dataset Overview:\")\n",
    "print(f\"• Total customers: {len(df):,}\")\n",
    "print(f\"• Features available: {len(df.columns)}\")\n",
    "print(f\"• Churn rate: {churn_percentage['Yes']:.1f}%\")\n",
    "print(f\"• Data quality: {'Good' if missing_values.sum() == 0 else 'Needs attention'}\")\n"
   ]
  }
 ],
 "metadata": {
  "kernelspec": {
   "display_name": "Python 3",
   "language": "python",
   "name": "python3"
  },
  "language_info": {
   "codemirror_mode": {
    "name": "ipython",
    "version": 3
   },
   "file_extension": ".py",
   "mimetype": "text/x-python",
   "name": "python",
   "nbconvert_exporter": "python",
   "pygments_lexer": "ipython3",
   "version": "3.12.0"
  }
 },
 "nbformat": 4,
 "nbformat_minor": 5
}
